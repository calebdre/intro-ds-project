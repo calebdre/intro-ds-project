{
 "cells": [
  {
   "cell_type": "code",
   "execution_count": 1,
   "metadata": {},
   "outputs": [],
   "source": [
    "import pandas as pd\n",
    "import os\n",
    "import pickle as pkl\n",
    "from data_transforms import CondenseStoryTransforms, VocabularyTransforms, TextTransforms, SeriesTransforms\n",
    "from data_transform_pipeline import DataTransformPipeline\n",
    "from combine_raw_data import get_combined_data"
   ]
  },
  {
   "cell_type": "code",
   "execution_count": 2,
   "metadata": {},
   "outputs": [
    {
     "data": {
      "text/html": [
       "<div>\n",
       "<style scoped>\n",
       "    .dataframe tbody tr th:only-of-type {\n",
       "        vertical-align: middle;\n",
       "    }\n",
       "\n",
       "    .dataframe tbody tr th {\n",
       "        vertical-align: top;\n",
       "    }\n",
       "\n",
       "    .dataframe thead th {\n",
       "        text-align: right;\n",
       "    }\n",
       "</style>\n",
       "<table border=\"1\" class=\"dataframe\">\n",
       "  <thead>\n",
       "    <tr style=\"text-align: right;\">\n",
       "      <th></th>\n",
       "      <th>author</th>\n",
       "      <th>book</th>\n",
       "      <th>genre</th>\n",
       "      <th>genre1</th>\n",
       "      <th>genre2</th>\n",
       "      <th>genre3</th>\n",
       "      <th>href</th>\n",
       "      <th>story</th>\n",
       "    </tr>\n",
       "  </thead>\n",
       "  <tbody>\n",
       "    <tr>\n",
       "      <th>count</th>\n",
       "      <td>475</td>\n",
       "      <td>1032</td>\n",
       "      <td>1032</td>\n",
       "      <td>652</td>\n",
       "      <td>652</td>\n",
       "      <td>35</td>\n",
       "      <td>1032</td>\n",
       "      <td>1032</td>\n",
       "    </tr>\n",
       "    <tr>\n",
       "      <th>unique</th>\n",
       "      <td>318</td>\n",
       "      <td>4</td>\n",
       "      <td>115</td>\n",
       "      <td>18</td>\n",
       "      <td>20</td>\n",
       "      <td>5</td>\n",
       "      <td>1032</td>\n",
       "      <td>1032</td>\n",
       "    </tr>\n",
       "    <tr>\n",
       "      <th>top</th>\n",
       "      <td>ccmal</td>\n",
       "      <td>Princess-Diaries</td>\n",
       "      <td>Romance</td>\n",
       "      <td>Romance</td>\n",
       "      <td>Romance</td>\n",
       "      <td>Comfort</td>\n",
       "      <td>/s/1657342/1/When-They-Were-Little</td>\n",
       "      <td>After\\nthe 6th bookThursday, 17, NovemberMia w...</td>\n",
       "    </tr>\n",
       "    <tr>\n",
       "      <th>freq</th>\n",
       "      <td>53</td>\n",
       "      <td>726</td>\n",
       "      <td>241</td>\n",
       "      <td>369</td>\n",
       "      <td>155</td>\n",
       "      <td>23</td>\n",
       "      <td>1</td>\n",
       "      <td>1</td>\n",
       "    </tr>\n",
       "  </tbody>\n",
       "</table>\n",
       "</div>"
      ],
      "text/plain": [
       "       author              book    genre   genre1   genre2   genre3  \\\n",
       "count     475              1032     1032      652      652       35   \n",
       "unique    318                 4      115       18       20        5   \n",
       "top     ccmal  Princess-Diaries  Romance  Romance  Romance  Comfort   \n",
       "freq       53               726      241      369      155       23   \n",
       "\n",
       "                                      href  \\\n",
       "count                                 1032   \n",
       "unique                                1032   \n",
       "top     /s/1657342/1/When-They-Were-Little   \n",
       "freq                                     1   \n",
       "\n",
       "                                                    story  \n",
       "count                                                1032  \n",
       "unique                                               1032  \n",
       "top     After\\nthe 6th bookThursday, 17, NovemberMia w...  \n",
       "freq                                                    1  "
      ]
     },
     "execution_count": 2,
     "metadata": {},
     "output_type": "execute_result"
    }
   ],
   "source": [
    "data = get_combined_data()\n",
    "data.describe()"
   ]
  },
  {
   "cell_type": "code",
   "execution_count": 3,
   "metadata": {},
   "outputs": [
    {
     "data": {
      "text/plain": [
       "genre1\n",
       "Adventure        31\n",
       "Angst            11\n",
       "Crime             1\n",
       "Drama            78\n",
       "Family           15\n",
       "Fantasy          12\n",
       "Friendship        7\n",
       "Horror            1\n",
       "Humor            75\n",
       "Hurt             18\n",
       "Mystery           8\n",
       "Parody            4\n",
       "Poetry            8\n",
       "Romance         369\n",
       "Supernatural      5\n",
       "Suspense          1\n",
       "Tragedy           6\n",
       "Western           2\n",
       "Name: story, dtype: int64"
      ]
     },
     "execution_count": 3,
     "metadata": {},
     "output_type": "execute_result"
    }
   ],
   "source": [
    "data.groupby(\"genre1\")[\"story\"].count()"
   ]
  },
  {
   "cell_type": "code",
   "execution_count": 4,
   "metadata": {},
   "outputs": [
    {
     "data": {
      "text/plain": [
       "genre2\n",
       "Adventure        21\n",
       "Angst            29\n",
       "Comfort          18\n",
       "Drama           141\n",
       "Family           16\n",
       "Fantasy          18\n",
       "Friendship       30\n",
       "Horror            2\n",
       "Humor           154\n",
       "Hurt             23\n",
       "Mystery           6\n",
       "Parody            2\n",
       "Poetry            5\n",
       "Romance         155\n",
       "Sci               4\n",
       "Spiritual         1\n",
       "Supernatural     10\n",
       "Suspense          6\n",
       "Tragedy           8\n",
       "Western           3\n",
       "Name: story, dtype: int64"
      ]
     },
     "execution_count": 4,
     "metadata": {},
     "output_type": "execute_result"
    }
   ],
   "source": [
    "data.groupby(\"genre2\")[\"story\"].count()"
   ]
  },
  {
   "cell_type": "code",
   "execution_count": 5,
   "metadata": {},
   "outputs": [
    {
     "data": {
      "text/plain": [
       "genre3\n",
       "Comfort       23\n",
       "Family         3\n",
       "Friendship     4\n",
       "Poetry         1\n",
       "Romance        4\n",
       "Name: story, dtype: int64"
      ]
     },
     "execution_count": 5,
     "metadata": {},
     "output_type": "execute_result"
    }
   ],
   "source": [
    "data.groupby(\"genre3\")[\"story\"].count()"
   ]
  },
  {
   "cell_type": "code",
   "execution_count": 6,
   "metadata": {},
   "outputs": [],
   "source": [
    "romances = data[(data[\"genre1\"] == \"Romance\") | (data[\"genre2\"] == \"Romance\")][\"story\"]"
   ]
  },
  {
   "cell_type": "code",
   "execution_count": 7,
   "metadata": {},
   "outputs": [
    {
     "data": {
      "text/plain": [
       "[\" It's been a month since she left\",\n",
       " \" It's been a long and painful month of sitting in his new nest after his parents denied him as their son\"]"
      ]
     },
     "execution_count": 7,
     "metadata": {},
     "output_type": "execute_result"
    }
   ],
   "source": [
    "romances.iloc[0].split(\".\")[2:4]"
   ]
  },
  {
   "cell_type": "code",
   "execution_count": 29,
   "metadata": {},
   "outputs": [
    {
     "data": {
      "text/plain": [
       "0.37"
      ]
     },
     "execution_count": 29,
     "metadata": {},
     "output_type": "execute_result"
    }
   ],
   "source": [
    "import random\n"
   ]
  },
  {
   "cell_type": "code",
   "execution_count": 8,
   "metadata": {},
   "outputs": [
    {
     "name": "stdout",
     "output_type": "stream",
     "text": [
      "Applying 'values'\n",
      "Applying 'first_sentences'\n",
      "Applying 'to_strings'\n",
      "Applying 'tokenize'\n"
     ]
    }
   ],
   "source": [
    "pl = DataTransformPipeline(romances)\n",
    "pl.add(SeriesTransforms.values)\n",
    "pl.add(CondenseStoryTransforms.first_sentences, args = (2, 2))\n",
    "pl.add(TextTransforms.to_strings)\n",
    "pl.add(TextTransforms.tokenize)\n",
    "\n",
    "tokenized_romances = pl.apply(\"tokenize_test\")"
   ]
  },
  {
   "cell_type": "code",
   "execution_count": 9,
   "metadata": {},
   "outputs": [
    {
     "data": {
      "text/plain": [
       "\"It 's month left . It 's long painful month sitting new nest parents denied son . Marus thrilled .\""
      ]
     },
     "execution_count": 9,
     "metadata": {},
     "output_type": "execute_result"
    }
   ],
   "source": [
    "\" \".join(tokenized_romances[0])"
   ]
  },
  {
   "cell_type": "code",
   "execution_count": 10,
   "metadata": {},
   "outputs": [
    {
     "name": "stdout",
     "output_type": "stream",
     "text": [
      "Applying 'to_word_embeddings'\n",
      "Reading files...\n",
      "opening embeds/10k/wiki-news-300d-1M-embedding-1.pkl\n",
      "opening embeds/10k/wiki-news-300d-1M-embedding-2.pkl\n"
     ]
    }
   ],
   "source": [
    "pl2 = DataTransformPipeline(tokenized_romances)\n",
    "pl2.add(VocabularyTransforms.to_word_embeddings)\n",
    "\n",
    "embeds, idx_word_map, embedding_vocab = pl2.apply(\"tokenize_test\")"
   ]
  },
  {
   "cell_type": "code",
   "execution_count": 11,
   "metadata": {},
   "outputs": [
    {
     "data": {
      "text/plain": [
       "tensor([  137,    24,   875,   214,     2,   137,    24,   387,  6373,   875,\n",
       "         4386,   108,  8663,   856,  2806,  1066,     2, 10000, 10000,     2])"
      ]
     },
     "execution_count": 11,
     "metadata": {},
     "output_type": "execute_result"
    }
   ],
   "source": [
    "embeds[0]"
   ]
  },
  {
   "cell_type": "code",
   "execution_count": 12,
   "metadata": {},
   "outputs": [
    {
     "data": {
      "text/plain": [
       "\"It 's month left . It 's long painful month sitting new nest parents denied son . <unk> <unk> .\""
      ]
     },
     "execution_count": 12,
     "metadata": {},
     "output_type": "execute_result"
    }
   ],
   "source": [
    "\" \".join([idx_word_map[idx.item()] for idx in embeds[0]])"
   ]
  },
  {
   "cell_type": "code",
   "execution_count": 13,
   "metadata": {},
   "outputs": [
    {
     "name": "stdout",
     "output_type": "stream",
     "text": [
      "Applying 'to_categorical'\n"
     ]
    }
   ],
   "source": [
    "ply = DataTransformPipeline(romances)\n",
    "ply.add(TextTransforms.to_categorical)\n",
    "y = ply.apply(\"labels\")"
   ]
  }
 ],
 "metadata": {
  "kernelspec": {
   "display_name": "Python 3",
   "language": "python",
   "name": "python3"
  },
  "language_info": {
   "codemirror_mode": {
    "name": "ipython",
    "version": 3
   },
   "file_extension": ".py",
   "mimetype": "text/x-python",
   "name": "python",
   "nbconvert_exporter": "python",
   "pygments_lexer": "ipython3",
   "version": "3.7.0"
  }
 },
 "nbformat": 4,
 "nbformat_minor": 2
}
