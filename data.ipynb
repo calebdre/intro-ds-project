{
 "cells": [
  {
   "cell_type": "code",
   "execution_count": 21,
   "metadata": {},
   "outputs": [],
   "source": [
    "import pandas as pd\n",
    "import os\n",
    "import pickle as pkl"
   ]
  },
  {
   "cell_type": "code",
   "execution_count": 27,
   "metadata": {},
   "outputs": [],
   "source": [
    "def get_genre_data():\n",
    "    if os.path.exists(\"raw_genre_data.pkl\"):\n",
    "        with open(\"raw_genre_data.pkl\", \"rb\") as f:\n",
    "            return pkl.load(f)\n",
    "    \n",
    "    # read/save the data if not exists\n",
    "    genre_data = {}\n",
    "\n",
    "    for file in os.listdir(\"data\"):\n",
    "        df = pd.read_csv(\"data/{}\".format(file), sep=\"|\", index_col=False)\n",
    "        genre_data[file.lower().split(\".\")[0]] = df\n",
    "    \n",
    "    with open(\"raw_genre_data.pkl\", \"wb+\") as f:\n",
    "        pkl.dump(genre_data, f, pkl.HIGHEST_PROTOCOL)\n",
    "    \n",
    "    return genre_data"
   ]
  },
  {
   "cell_type": "code",
   "execution_count": 36,
   "metadata": {},
   "outputs": [],
   "source": [
    "genre_data = get_genre_data()"
   ]
  },
  {
   "cell_type": "code",
   "execution_count": 37,
   "metadata": {},
   "outputs": [
    {
     "data": {
      "text/html": [
       "<div>\n",
       "<style scoped>\n",
       "    .dataframe tbody tr th:only-of-type {\n",
       "        vertical-align: middle;\n",
       "    }\n",
       "\n",
       "    .dataframe tbody tr th {\n",
       "        vertical-align: top;\n",
       "    }\n",
       "\n",
       "    .dataframe thead th {\n",
       "        text-align: right;\n",
       "    }\n",
       "</style>\n",
       "<table border=\"1\" class=\"dataframe\">\n",
       "  <thead>\n",
       "    <tr style=\"text-align: right;\">\n",
       "      <th></th>\n",
       "      <th>book</th>\n",
       "      <th>genre</th>\n",
       "      <th>href</th>\n",
       "      <th>story</th>\n",
       "    </tr>\n",
       "  </thead>\n",
       "  <tbody>\n",
       "    <tr>\n",
       "      <th>0</th>\n",
       "      <td>Thirteen-Reasons-Why</td>\n",
       "      <td>Romance</td>\n",
       "      <td>/s/8640727/1/Tony</td>\n",
       "      <td>I don't usually write AUs, but this one called...</td>\n",
       "    </tr>\n",
       "    <tr>\n",
       "      <th>1</th>\n",
       "      <td>Thirteen-Reasons-Why</td>\n",
       "      <td>Romance</td>\n",
       "      <td>/s/12471395/1/Love-Will-Tear-Us-Apart</td>\n",
       "      <td>Clay's point of view.Hannah.There she is, stuf...</td>\n",
       "    </tr>\n",
       "  </tbody>\n",
       "</table>\n",
       "</div>"
      ],
      "text/plain": [
       "                   book    genre                                   href  \\\n",
       "0  Thirteen-Reasons-Why  Romance                      /s/8640727/1/Tony   \n",
       "1  Thirteen-Reasons-Why  Romance  /s/12471395/1/Love-Will-Tear-Us-Apart   \n",
       "\n",
       "                                               story  \n",
       "0  I don't usually write AUs, but this one called...  \n",
       "1  Clay's point of view.Hannah.There she is, stuf...  "
      ]
     },
     "execution_count": 37,
     "metadata": {},
     "output_type": "execute_result"
    }
   ],
   "source": [
    "genre_data[\"romance\"]"
   ]
  }
 ],
 "metadata": {
  "kernelspec": {
   "display_name": "Python 3",
   "language": "python",
   "name": "python3"
  },
  "language_info": {
   "codemirror_mode": {
    "name": "ipython",
    "version": 3
   },
   "file_extension": ".py",
   "mimetype": "text/x-python",
   "name": "python",
   "nbconvert_exporter": "python",
   "pygments_lexer": "ipython3",
   "version": "3.7.0"
  }
 },
 "nbformat": 4,
 "nbformat_minor": 2
}
