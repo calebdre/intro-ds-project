{
 "cells": [
  {
   "cell_type": "code",
   "execution_count": 1,
   "metadata": {},
   "outputs": [],
   "source": [
    "import pandas as pd\n",
    "import os\n",
    "import pickle as pkl\n",
    "from data_transforms import CondenseStoryTransforms, VocabularyTransforms, TextTransforms, SeriesTransforms\n",
    "from data_transform_pipeline import DataTransformPipeline\n",
    "from combine_raw_data import get_combined_data"
   ]
  },
  {
   "cell_type": "code",
   "execution_count": 2,
   "metadata": {},
   "outputs": [
    {
     "data": {
      "text/html": [
       "<div>\n",
       "<style scoped>\n",
       "    .dataframe tbody tr th:only-of-type {\n",
       "        vertical-align: middle;\n",
       "    }\n",
       "\n",
       "    .dataframe tbody tr th {\n",
       "        vertical-align: top;\n",
       "    }\n",
       "\n",
       "    .dataframe thead th {\n",
       "        text-align: right;\n",
       "    }\n",
       "</style>\n",
       "<table border=\"1\" class=\"dataframe\">\n",
       "  <thead>\n",
       "    <tr style=\"text-align: right;\">\n",
       "      <th></th>\n",
       "      <th>author</th>\n",
       "      <th>book</th>\n",
       "      <th>genre</th>\n",
       "      <th>genre1</th>\n",
       "      <th>genre2</th>\n",
       "      <th>genre3</th>\n",
       "      <th>href</th>\n",
       "      <th>story</th>\n",
       "    </tr>\n",
       "  </thead>\n",
       "  <tbody>\n",
       "    <tr>\n",
       "      <th>count</th>\n",
       "      <td>51799</td>\n",
       "      <td>77759</td>\n",
       "      <td>77759</td>\n",
       "      <td>77759</td>\n",
       "      <td>77759</td>\n",
       "      <td>30760</td>\n",
       "      <td>77759</td>\n",
       "      <td>77759</td>\n",
       "    </tr>\n",
       "    <tr>\n",
       "      <th>unique</th>\n",
       "      <td>33033</td>\n",
       "      <td>802</td>\n",
       "      <td>321</td>\n",
       "      <td>20</td>\n",
       "      <td>21</td>\n",
       "      <td>20</td>\n",
       "      <td>77759</td>\n",
       "      <td>77590</td>\n",
       "    </tr>\n",
       "    <tr>\n",
       "      <th>top</th>\n",
       "      <td>Laura Schiller</td>\n",
       "      <td>Hobbit</td>\n",
       "      <td>Romance</td>\n",
       "      <td>Romance</td>\n",
       "      <td>Romance</td>\n",
       "      <td>Romance</td>\n",
       "      <td>/s/2379583/1/Improbability-Kissing</td>\n",
       "      <td>I am excited to announce the start of my new w...</td>\n",
       "    </tr>\n",
       "    <tr>\n",
       "      <th>freq</th>\n",
       "      <td>208</td>\n",
       "      <td>461</td>\n",
       "      <td>9205</td>\n",
       "      <td>29516</td>\n",
       "      <td>18594</td>\n",
       "      <td>10256</td>\n",
       "      <td>1</td>\n",
       "      <td>12</td>\n",
       "    </tr>\n",
       "  </tbody>\n",
       "</table>\n",
       "</div>"
      ],
      "text/plain": [
       "                author    book    genre   genre1   genre2   genre3  \\\n",
       "count            51799   77759    77759    77759    77759    30760   \n",
       "unique           33033     802      321       20       21       20   \n",
       "top     Laura Schiller  Hobbit  Romance  Romance  Romance  Romance   \n",
       "freq               208     461     9205    29516    18594    10256   \n",
       "\n",
       "                                      href  \\\n",
       "count                                77759   \n",
       "unique                               77759   \n",
       "top     /s/2379583/1/Improbability-Kissing   \n",
       "freq                                     1   \n",
       "\n",
       "                                                    story  \n",
       "count                                               77759  \n",
       "unique                                              77590  \n",
       "top     I am excited to announce the start of my new w...  \n",
       "freq                                                   12  "
      ]
     },
     "execution_count": 2,
     "metadata": {},
     "output_type": "execute_result"
    }
   ],
   "source": [
    "data = get_combined_data()\n",
    "data.describe()"
   ]
  },
  {
   "cell_type": "code",
   "execution_count": 3,
   "metadata": {},
   "outputs": [
    {
     "data": {
      "text/plain": [
       "genre1\n",
       "Romance         29516\n",
       "Humor            8187\n",
       "Drama            6404\n",
       "Adventure        5271\n",
       "Angst            4698\n",
       "Hurt             3885\n",
       "Friendship       3374\n",
       "Family           3089\n",
       "Fantasy          2984\n",
       "Tragedy          1799\n",
       "Supernatural     1607\n",
       "Horror           1540\n",
       "Poetry           1161\n",
       "Sci              1087\n",
       "Mystery          1035\n",
       "Suspense          716\n",
       "Parody            632\n",
       "Spiritual         477\n",
       "Crime             269\n",
       "Western            28\n",
       "Name: story, dtype: int64"
      ]
     },
     "execution_count": 3,
     "metadata": {},
     "output_type": "execute_result"
    }
   ],
   "source": [
    "data.groupby(\"genre1\")[\"story\"].count().sort_values(ascending=False)"
   ]
  },
  {
   "cell_type": "code",
   "execution_count": 4,
   "metadata": {},
   "outputs": [
    {
     "data": {
      "text/plain": [
       "genre2\n",
       "Romance         18594\n",
       "Humor            8607\n",
       "Drama            8201\n",
       "Adventure        5198\n",
       "Angst            5040\n",
       "Hurt             4977\n",
       "Friendship       4975\n",
       "Comfort          3885\n",
       "Family           3271\n",
       "Fantasy          2494\n",
       "Tragedy          2346\n",
       "Supernatural     2130\n",
       "Sci              1731\n",
       "Horror           1319\n",
       "Mystery          1291\n",
       "Suspense         1214\n",
       "Parody           1019\n",
       "Spiritual         599\n",
       "Poetry            481\n",
       "Crime             346\n",
       "Western            41\n",
       "Name: story, dtype: int64"
      ]
     },
     "execution_count": 4,
     "metadata": {},
     "output_type": "execute_result"
    }
   ],
   "source": [
    "data.groupby(\"genre2\")[\"story\"].count().sort_values(ascending=False)"
   ]
  },
  {
   "cell_type": "code",
   "execution_count": 14,
   "metadata": {},
   "outputs": [
    {
     "data": {
      "text/plain": [
       "'Adventure'"
      ]
     },
     "execution_count": 14,
     "metadata": {},
     "output_type": "execute_result"
    }
   ],
   "source": [
    "data.groupby(\"genre3\")[\"story\"].count()[[\"Adventure\", \"Romance\"]].idxmin()"
   ]
  },
  {
   "cell_type": "code",
   "execution_count": 8,
   "metadata": {},
   "outputs": [
    {
     "data": {
      "text/plain": [
       "['AN: I do not own The Chronicles of Prydain, alas, for I am clearly not Lloyd Alexander',\n",
       " ' A big thanks to CompanionWanderer for beta-ing this for me so VERY long ago',\n",
       " \" I'm finally posting it in hopes that feedback will get me moving on it again\"]"
      ]
     },
     "execution_count": 8,
     "metadata": {},
     "output_type": "execute_result"
    }
   ],
   "source": [
    "stories = data[\"story\"].dropna()\n",
    "stories.values[0].split(\".\")[:3]"
   ]
  },
  {
   "cell_type": "code",
   "execution_count": 3,
   "metadata": {},
   "outputs": [
    {
     "data": {
      "text/plain": [
       "<data_transform_pipeline.DataTransformPipeline at 0x11a193828>"
      ]
     },
     "execution_count": 3,
     "metadata": {},
     "output_type": "execute_result"
    }
   ],
   "source": [
    "f_sents_pl = DataTransformPipeline()\n",
    "f_sents_pl.add(SeriesTransforms.values)\n",
    "f_sents_pl.add(CondenseStoryTransforms.first_sentence_tokens, args = (2, 2))\n",
    "f_sents_pl.add(VocabularyTransforms.to_word_embeddings)"
   ]
  },
  {
   "cell_type": "code",
   "execution_count": null,
   "metadata": {},
   "outputs": [],
   "source": [
    "embeds, idx_word_map, embedding_vocab = f_sents_pl.apply(\"first_sentences\", stories)"
   ]
  },
  {
   "cell_type": "code",
   "execution_count": 9,
   "metadata": {},
   "outputs": [
    {
     "data": {
      "text/plain": [
       "tensor([   20, 33335, 45000,     0, 29404,     0,    28,   865,  8031,  2598,\n",
       "            2,   104,   740,  2001, 45000, 10494,    35, 31870, 32365,   387,\n",
       "          779,     2,    28,   719,  1620,  3002,  3328,  3488,  1236,     2])"
      ]
     },
     "execution_count": 9,
     "metadata": {},
     "output_type": "execute_result"
    }
   ],
   "source": [
    "embeds[0]"
   ]
  },
  {
   "cell_type": "code",
   "execution_count": 10,
   "metadata": {},
   "outputs": [
    {
     "data": {
      "text/plain": [
       "\"The Chronicles <unk> , alas , I clearly Lloyd Alexander . A big thanks <unk> beta - ing VERY long ago . I 'm finally posting hopes feedback moving .\""
      ]
     },
     "execution_count": 10,
     "metadata": {},
     "output_type": "execute_result"
    }
   ],
   "source": [
    "\" \".join([idx_word_map[idx.item()] for idx in embeds[0]])"
   ]
  },
  {
   "cell_type": "code",
   "execution_count": 3,
   "metadata": {},
   "outputs": [
    {
     "data": {
      "text/plain": [
       "<data_transform_pipeline.DataTransformPipeline at 0x11438b710>"
      ]
     },
     "execution_count": 3,
     "metadata": {},
     "output_type": "execute_result"
    }
   ],
   "source": [
    "label_pipeline = DataTransformPipeline()\n",
    "label_pipeline.add(TextTransforms.to_categorical)"
   ]
  },
  {
   "cell_type": "code",
   "execution_count": null,
   "metadata": {},
   "outputs": [],
   "source": [
    "for label in [\"genre1\", \"genre2\"]:\n",
    "    label_pipeline.apply(\"{}_labels\".format(label), data[label])"
   ]
  },
  {
   "cell_type": "code",
   "execution_count": 29,
   "metadata": {},
   "outputs": [],
   "source": [
    "def get_genres(genres):\n",
    "    min_genre = data.groupby(\"genre2\")[\"story\"].count()[genres].idxmin()\n",
    "    samples = data[data[\"genre2\"] == min_genre].shape[0]\n",
    "    df = data[data[\"genre2\"] == min_genre]\n",
    "    genres.pop(genres.index(min_genre))\n",
    "    for genre in genres:\n",
    "        df = df.append(data[data[\"genre2\"] == genre][:samples])\n",
    "    \n",
    "    return df"
   ]
  },
  {
   "cell_type": "code",
   "execution_count": 31,
   "metadata": {},
   "outputs": [],
   "source": [
    "comb = get_genres([\"Romance\", \"Humor\", \"Drama\"])"
   ]
  },
  {
   "cell_type": "code",
   "execution_count": null,
   "metadata": {},
   "outputs": [],
   "source": [
    "f_sents_pl.apply(\"f_sents_prod\", comb[\"story\"])"
   ]
  },
  {
   "cell_type": "code",
   "execution_count": null,
   "metadata": {},
   "outputs": [],
   "source": [
    "label_pipeline.apply(\"genre2_labels_prod\", comb[\"genre2\"])"
   ]
  },
  {
   "cell_type": "code",
   "execution_count": null,
   "metadata": {},
   "outputs": [],
   "source": []
  }
 ],
 "metadata": {
  "kernelspec": {
   "display_name": "Python 3",
   "language": "python",
   "name": "python3"
  },
  "language_info": {
   "codemirror_mode": {
    "name": "ipython",
    "version": 3
   },
   "file_extension": ".py",
   "mimetype": "text/x-python",
   "name": "python",
   "nbconvert_exporter": "python",
   "pygments_lexer": "ipython3",
   "version": "3.7.0"
  }
 },
 "nbformat": 4,
 "nbformat_minor": 2
}
