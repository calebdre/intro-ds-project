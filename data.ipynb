{
 "cells": [
  {
   "cell_type": "code",
   "execution_count": 189,
   "metadata": {},
   "outputs": [],
   "source": [
    "import pandas as pd\n",
    "import os\n",
    "import pickle as pkl\n",
    "from data_transforms import CondenseStoryTransforms, VocabularyTransforms, TextTransforms, SeriesTransforms\n",
    "from data_transform_pipeline import DataTransformPipeline\n",
    "from combine_raw_data import get_combined_data"
   ]
  },
  {
   "cell_type": "code",
   "execution_count": 190,
   "metadata": {},
   "outputs": [
    {
     "data": {
      "text/html": [
       "<div>\n",
       "<style scoped>\n",
       "    .dataframe tbody tr th:only-of-type {\n",
       "        vertical-align: middle;\n",
       "    }\n",
       "\n",
       "    .dataframe tbody tr th {\n",
       "        vertical-align: top;\n",
       "    }\n",
       "\n",
       "    .dataframe thead th {\n",
       "        text-align: right;\n",
       "    }\n",
       "</style>\n",
       "<table border=\"1\" class=\"dataframe\">\n",
       "  <thead>\n",
       "    <tr style=\"text-align: right;\">\n",
       "      <th></th>\n",
       "      <th>author</th>\n",
       "      <th>book</th>\n",
       "      <th>genre</th>\n",
       "      <th>href</th>\n",
       "      <th>story</th>\n",
       "    </tr>\n",
       "  </thead>\n",
       "  <tbody>\n",
       "    <tr>\n",
       "      <th>count</th>\n",
       "      <td>475</td>\n",
       "      <td>1032</td>\n",
       "      <td>1032</td>\n",
       "      <td>1032</td>\n",
       "      <td>1032</td>\n",
       "    </tr>\n",
       "    <tr>\n",
       "      <th>unique</th>\n",
       "      <td>318</td>\n",
       "      <td>4</td>\n",
       "      <td>115</td>\n",
       "      <td>1032</td>\n",
       "      <td>1032</td>\n",
       "    </tr>\n",
       "    <tr>\n",
       "      <th>top</th>\n",
       "      <td>ccmal</td>\n",
       "      <td>Princess-Diaries</td>\n",
       "      <td>Romance</td>\n",
       "      <td>/s/1657342/1/When-They-Were-Little</td>\n",
       "      <td>Laura\\r\\nanxiously sat on the stage. She was ...</td>\n",
       "    </tr>\n",
       "    <tr>\n",
       "      <th>freq</th>\n",
       "      <td>53</td>\n",
       "      <td>726</td>\n",
       "      <td>241</td>\n",
       "      <td>1</td>\n",
       "      <td>1</td>\n",
       "    </tr>\n",
       "  </tbody>\n",
       "</table>\n",
       "</div>"
      ],
      "text/plain": [
       "       author              book    genre                                href  \\\n",
       "count     475              1032     1032                                1032   \n",
       "unique    318                 4      115                                1032   \n",
       "top     ccmal  Princess-Diaries  Romance  /s/1657342/1/When-They-Were-Little   \n",
       "freq       53               726      241                                   1   \n",
       "\n",
       "                                                    story  \n",
       "count                                                1032  \n",
       "unique                                               1032  \n",
       "top      Laura\\r\\nanxiously sat on the stage. She was ...  \n",
       "freq                                                    1  "
      ]
     },
     "execution_count": 190,
     "metadata": {},
     "output_type": "execute_result"
    }
   ],
   "source": [
    "genre_data = get_combined_data()\n",
    "genre_data.describe()"
   ]
  },
  {
   "cell_type": "code",
   "execution_count": 157,
   "metadata": {},
   "outputs": [],
   "source": [
    "def split_genres(row):\n",
    "    if \"/\" in row[\"genre\"]:\n",
    "        genres = row[\"genre\"].split(\"/\")\n",
    "        for i, genre in enumerate(genres):\n",
    "            row[\"genre{}\".format(i+1)] = genre\n",
    "        return row\n",
    "    else:\n",
    "        return row\n",
    "\n",
    "splitted = genre_data.apply(split_genres, axis=1)"
   ]
  },
  {
   "cell_type": "code",
   "execution_count": 163,
   "metadata": {},
   "outputs": [
    {
     "data": {
      "text/plain": [
       "genre1\n",
       "Adventure        31\n",
       "Angst            11\n",
       "Crime             1\n",
       "Drama            78\n",
       "Family           15\n",
       "Fantasy          12\n",
       "Friendship        7\n",
       "Horror            1\n",
       "Humor            75\n",
       "Hurt             18\n",
       "Mystery           8\n",
       "Parody            4\n",
       "Poetry            8\n",
       "Romance         369\n",
       "Supernatural      5\n",
       "Suspense          1\n",
       "Tragedy           6\n",
       "Western           2\n",
       "Name: story, dtype: int64"
      ]
     },
     "execution_count": 163,
     "metadata": {},
     "output_type": "execute_result"
    }
   ],
   "source": [
    "splitted.groupby(\"genre1\")[\"story\"].count()"
   ]
  },
  {
   "cell_type": "code",
   "execution_count": 159,
   "metadata": {},
   "outputs": [
    {
     "data": {
      "text/plain": [
       "genre2\n",
       "Adventure        21\n",
       "Angst            29\n",
       "Comfort          18\n",
       "Drama           141\n",
       "Family           16\n",
       "Fantasy          18\n",
       "Friendship       30\n",
       "Horror            2\n",
       "Humor           154\n",
       "Hurt             23\n",
       "Mystery           6\n",
       "Parody            2\n",
       "Poetry            5\n",
       "Romance         155\n",
       "Sci               4\n",
       "Spiritual         1\n",
       "Supernatural     10\n",
       "Suspense          6\n",
       "Tragedy           8\n",
       "Western           3\n",
       "Name: story, dtype: int64"
      ]
     },
     "execution_count": 159,
     "metadata": {},
     "output_type": "execute_result"
    }
   ],
   "source": [
    "splitted.groupby(\"genre2\")[\"story\"].count()"
   ]
  },
  {
   "cell_type": "code",
   "execution_count": 164,
   "metadata": {},
   "outputs": [
    {
     "data": {
      "text/plain": [
       "genre3\n",
       "Comfort       23\n",
       "Family         3\n",
       "Friendship     4\n",
       "Poetry         1\n",
       "Romance        4\n",
       "Name: story, dtype: int64"
      ]
     },
     "execution_count": 164,
     "metadata": {},
     "output_type": "execute_result"
    }
   ],
   "source": [
    "splitted.groupby(\"genre3\")[\"story\"].count()"
   ]
  },
  {
   "cell_type": "code",
   "execution_count": 172,
   "metadata": {},
   "outputs": [],
   "source": [
    "romances = genre_data[(splitted[\"genre1\"] == \"Romance\") | (splitted[\"genre2\"] == \"Romance\")][\"story\"]"
   ]
  },
  {
   "cell_type": "code",
   "execution_count": 179,
   "metadata": {},
   "outputs": [
    {
     "data": {
      "text/plain": [
       "[\" It's been a month since she left\",\n",
       " \" It's been a long and painful month of sitting in his new nest after his parents denied him as their son\"]"
      ]
     },
     "execution_count": 179,
     "metadata": {},
     "output_type": "execute_result"
    }
   ],
   "source": [
    "romances.iloc[0].split(\".\")[2:4]"
   ]
  },
  {
   "cell_type": "code",
   "execution_count": 180,
   "metadata": {},
   "outputs": [
    {
     "name": "stdout",
     "output_type": "stream",
     "text": [
      "Applying 'values'\n",
      "Applying 'first_sentences'\n",
      "Applying 'to_strings'\n",
      "Applying 'tokenize'\n"
     ]
    }
   ],
   "source": [
    "pl = DataTransformPipeline(romances)\n",
    "pl.add(SeriesTransforms.values)\n",
    "pl.add(CondenseStoryTransforms.first_sentences, args = (2, 2))\n",
    "pl.add(TextTransforms.to_strings)\n",
    "pl.add(TextTransforms.tokenize)\n",
    "\n",
    "tokenized_romances = pl.apply(\"tokenize_test\")"
   ]
  },
  {
   "cell_type": "code",
   "execution_count": 181,
   "metadata": {},
   "outputs": [
    {
     "data": {
      "text/plain": [
       "\"It 's month left . It 's long painful month sitting new nest parents denied son . Marus thrilled .\""
      ]
     },
     "execution_count": 181,
     "metadata": {},
     "output_type": "execute_result"
    }
   ],
   "source": [
    "\" \".join(tokenized_romances[0])"
   ]
  },
  {
   "cell_type": "code",
   "execution_count": 182,
   "metadata": {},
   "outputs": [
    {
     "name": "stdout",
     "output_type": "stream",
     "text": [
      "Applying 'to_word_embeddings'\n",
      "Reading files...\n",
      "opening embeds/10k/wiki-news-300d-1M-embedding-1.pkl\n",
      "opening embeds/10k/wiki-news-300d-1M-embedding-2.pkl\n"
     ]
    }
   ],
   "source": [
    "pl2 = DataTransformPipeline(tokenized_romances)\n",
    "pl2.add(VocabularyTransforms.to_word_embeddings)\n",
    "\n",
    "embeds, idx_word_map, embedding_vocab = pl2.apply(\"tokenize_test\")"
   ]
  },
  {
   "cell_type": "code",
   "execution_count": 183,
   "metadata": {},
   "outputs": [
    {
     "data": {
      "text/plain": [
       "tensor([  137,    24,   875,   214,     2,   137,    24,   387,  6373,   875,\n",
       "         4386,   108,  8663,   856,  2806,  1066,     2, 10000, 10000,     2])"
      ]
     },
     "execution_count": 183,
     "metadata": {},
     "output_type": "execute_result"
    }
   ],
   "source": [
    "embeds[0]"
   ]
  },
  {
   "cell_type": "code",
   "execution_count": 185,
   "metadata": {},
   "outputs": [
    {
     "name": "stdout",
     "output_type": "stream",
     "text": [
      "Applying 'to_categorical'\n"
     ]
    }
   ],
   "source": [
    "ply = DataTransformPipeline(romances)\n",
    "ply.add(TextTransforms.to_categorical)\n",
    "y = ply.apply(\"labels\")"
   ]
  }
 ],
 "metadata": {
  "kernelspec": {
   "display_name": "Python 3",
   "language": "python",
   "name": "python3"
  },
  "language_info": {
   "codemirror_mode": {
    "name": "ipython",
    "version": 3
   },
   "file_extension": ".py",
   "mimetype": "text/x-python",
   "name": "python",
   "nbconvert_exporter": "python",
   "pygments_lexer": "ipython3",
   "version": "3.7.0"
  }
 },
 "nbformat": 4,
 "nbformat_minor": 2
}
