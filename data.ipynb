{
 "cells": [
  {
   "cell_type": "code",
   "execution_count": 21,
   "metadata": {},
   "outputs": [],
   "source": [
    "import pandas as pd\n",
    "import os\n",
    "import pickle as pkl"
   ]
  },
  {
   "cell_type": "code",
   "execution_count": 27,
   "metadata": {},
   "outputs": [],
   "source": [
    "def get_genre_data():\n",
    "    if os.path.exists(\"raw_genre_data.pkl\"):\n",
    "        with open(\"raw_genre_data.pkl\", \"rb\") as f:\n",
    "            return pkl.load(f)\n",
    "    \n",
    "    # read/save the data if not exists\n",
    "    genre_data = {}\n",
    "\n",
    "    for file in os.listdir(\"data\"):\n",
    "        df = pd.read_csv(\"data/{}\".format(file), sep=\"|\", index_col=False)\n",
    "        genre_data[file.lower().split(\".\")[0]] = df\n",
    "    \n",
    "    with open(\"raw_genre_data.pkl\", \"wb+\") as f:\n",
    "        pkl.dump(genre_data, f, pkl.HIGHEST_PROTOCOL)\n",
    "    \n",
    "    return genre_data"
   ]
  },
  {
   "cell_type": "code",
   "execution_count": 30,
   "metadata": {},
   "outputs": [],
   "source": [
    "genre_data = get_genre_data()"
   ]
  },
  {
   "cell_type": "code",
   "execution_count": 33,
   "metadata": {},
   "outputs": [
    {
     "data": {
      "text/html": [
       "<div>\n",
       "<style scoped>\n",
       "    .dataframe tbody tr th:only-of-type {\n",
       "        vertical-align: middle;\n",
       "    }\n",
       "\n",
       "    .dataframe tbody tr th {\n",
       "        vertical-align: top;\n",
       "    }\n",
       "\n",
       "    .dataframe thead th {\n",
       "        text-align: right;\n",
       "    }\n",
       "</style>\n",
       "<table border=\"1\" class=\"dataframe\">\n",
       "  <thead>\n",
       "    <tr style=\"text-align: right;\">\n",
       "      <th></th>\n",
       "      <th>book</th>\n",
       "      <th>genre</th>\n",
       "      <th>href</th>\n",
       "      <th>story</th>\n",
       "    </tr>\n",
       "  </thead>\n",
       "  <tbody>\n",
       "    <tr>\n",
       "      <th>0</th>\n",
       "      <td>A-Cage-of-Butterflies</td>\n",
       "      <td>Romance</td>\n",
       "      <td>/s/5365213/1/Duncan-and-Courtney-I-m-BACK-Part-2</td>\n",
       "      <td>Ok this is my first story about Duncan and Cou...</td>\n",
       "    </tr>\n",
       "    <tr>\n",
       "      <th>1</th>\n",
       "      <td>Mistborn-Trilogy</td>\n",
       "      <td>Romance</td>\n",
       "      <td>/s/6469357/1/Mist-in-your-eye-mists-in-your-mind</td>\n",
       "      <td>MIST IN YOUR EYES (MISTS IN YOUR MIND)Elend fo...</td>\n",
       "    </tr>\n",
       "    <tr>\n",
       "      <th>2</th>\n",
       "      <td>Mistborn-Trilogy</td>\n",
       "      <td>Romance</td>\n",
       "      <td>/s/11293347/1/Late-At-Night</td>\n",
       "      <td>Marsh cursed under his breath. His younger bro...</td>\n",
       "    </tr>\n",
       "    <tr>\n",
       "      <th>3</th>\n",
       "      <td>Mistborn-Trilogy</td>\n",
       "      <td>Romance</td>\n",
       "      <td>/s/11274561/1/Midnight-Delight</td>\n",
       "      <td>AN: I did not write The Mistborn Trilogy nor i...</td>\n",
       "    </tr>\n",
       "  </tbody>\n",
       "</table>\n",
       "</div>"
      ],
      "text/plain": [
       "                    book    genre  \\\n",
       "0  A-Cage-of-Butterflies  Romance   \n",
       "1       Mistborn-Trilogy  Romance   \n",
       "2       Mistborn-Trilogy  Romance   \n",
       "3       Mistborn-Trilogy  Romance   \n",
       "\n",
       "                                               href  \\\n",
       "0  /s/5365213/1/Duncan-and-Courtney-I-m-BACK-Part-2   \n",
       "1  /s/6469357/1/Mist-in-your-eye-mists-in-your-mind   \n",
       "2                       /s/11293347/1/Late-At-Night   \n",
       "3                    /s/11274561/1/Midnight-Delight   \n",
       "\n",
       "                                               story  \n",
       "0  Ok this is my first story about Duncan and Cou...  \n",
       "1  MIST IN YOUR EYES (MISTS IN YOUR MIND)Elend fo...  \n",
       "2  Marsh cursed under his breath. His younger bro...  \n",
       "3  AN: I did not write The Mistborn Trilogy nor i...  "
      ]
     },
     "execution_count": 33,
     "metadata": {},
     "output_type": "execute_result"
    }
   ],
   "source": [
    "genre_data[\"romance\"]"
   ]
  },
  {
   "cell_type": "code",
   "execution_count": null,
   "metadata": {},
   "outputs": [],
   "source": []
  }
 ],
 "metadata": {
  "kernelspec": {
   "display_name": "Python 3",
   "language": "python",
   "name": "python3"
  },
  "language_info": {
   "codemirror_mode": {
    "name": "ipython",
    "version": 3
   },
   "file_extension": ".py",
   "mimetype": "text/x-python",
   "name": "python",
   "nbconvert_exporter": "python",
   "pygments_lexer": "ipython3",
   "version": "3.7.0"
  }
 },
 "nbformat": 4,
 "nbformat_minor": 2
}
