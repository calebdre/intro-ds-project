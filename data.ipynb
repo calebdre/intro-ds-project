{
 "cells": [
  {
   "cell_type": "code",
   "execution_count": 1,
   "metadata": {},
   "outputs": [],
   "source": [
    "import pandas as pd\n",
    "import os\n",
    "import pickle as pkl\n",
    "from data_transforms import CondenseStoryTransforms, VocabularyTransforms, TextTransforms, SeriesTransforms\n",
    "from data_tranform_pipeline import DataTransformPipeline"
   ]
  },
  {
   "cell_type": "code",
   "execution_count": 2,
   "metadata": {},
   "outputs": [],
   "source": [
    "def get_genre_data():\n",
    "    if os.path.exists(\"raw_genre_data.pkl\"):\n",
    "        with open(\"raw_genre_data.pkl\", \"rb\") as f:\n",
    "            return pkl.load(f)\n",
    "    \n",
    "    # read/save the data if not exists\n",
    "    genre_data = {}\n",
    "\n",
    "    for file in os.listdir(\"data\"):\n",
    "        df = pd.read_csv(\"data/{}\".format(file), sep=\"|\", index_col=False)\n",
    "        genre_data[file.lower().split(\".\")[0]] = df\n",
    "    \n",
    "    with open(\"raw_genre_data.pkl\", \"wb+\") as f:\n",
    "        pkl.dump(genre_data, f, pkl.HIGHEST_PROTOCOL)\n",
    "    \n",
    "    return genre_data"
   ]
  },
  {
   "cell_type": "code",
   "execution_count": 3,
   "metadata": {},
   "outputs": [],
   "source": [
    "genre_data = get_genre_data()\n",
    "romances = genre_data[\"romance\"][\"story\"]"
   ]
  },
  {
   "cell_type": "code",
   "execution_count": 4,
   "metadata": {},
   "outputs": [
    {
     "data": {
      "text/plain": [
       "[' The main pairing, as you probably already know, is Maven x Mare',\n",
       " ' I mean sure in the story they had a bit of problems, but I still ship them with my entire heart']"
      ]
     },
     "execution_count": 4,
     "metadata": {},
     "output_type": "execute_result"
    }
   ],
   "source": [
    "romances[0].split(\".\")[2:4]"
   ]
  },
  {
   "cell_type": "code",
   "execution_count": 5,
   "metadata": {},
   "outputs": [
    {
     "name": "stdout",
     "output_type": "stream",
     "text": [
      "Applying 'values'\n",
      "Applying 'first_sentences'\n",
      "Applying 'to_strings'\n",
      "Applying 'tokenize'\n"
     ]
    }
   ],
   "source": [
    "pl = DataTransformPipeline(romances)\n",
    "pl.add(SeriesTransforms.values)\n",
    "pl.add(CondenseStoryTransforms.first_sentences, args = (2, 2))\n",
    "pl.add(TextTransforms.to_strings)\n",
    "pl.add(TextTransforms.tokenize)\n",
    "\n",
    "tokenized_romances = pl.apply(\"tokenize_test\")"
   ]
  },
  {
   "cell_type": "code",
   "execution_count": 6,
   "metadata": {},
   "outputs": [
    {
     "data": {
      "text/plain": [
       "'Themainpairing,probablyknow,MavenxMare.Imeansurestorybitproblems,Ishipentireheart.'"
      ]
     },
     "execution_count": 6,
     "metadata": {},
     "output_type": "execute_result"
    }
   ],
   "source": [
    "\"\".join(tokenized_romances[0])"
   ]
  },
  {
   "cell_type": "code",
   "execution_count": 7,
   "metadata": {},
   "outputs": [
    {
     "name": "stdout",
     "output_type": "stream",
     "text": [
      "Applying 'to_word_embeddings'\n",
      "Reading files...\n",
      "opening embeds/10k/wiki-news-300d-1M-embedding-1.pkl\n",
      "opening embeds/10k/wiki-news-300d-1M-embedding-2.pkl\n"
     ]
    }
   ],
   "source": [
    "pl2 = DataTransformPipeline(tokenized_romances)\n",
    "pl2.add(VocabularyTransforms.to_word_embeddings)\n",
    "\n",
    "embeds, idx_word_map, embedding_vocab = pl2.apply(\"tokenize_test\")"
   ]
  },
  {
   "cell_type": "code",
   "execution_count": 8,
   "metadata": {},
   "outputs": [
    {
     "data": {
      "text/plain": [
       "tensor([   20,  1197, 10000,     0,   419,   197,     0, 10000,  2256, 10000,\n",
       "            2,    28,   625,   582,   413,  1303,   432,     0,    28,  1461,\n",
       "         2264,  1342,     2])"
      ]
     },
     "execution_count": 8,
     "metadata": {},
     "output_type": "execute_result"
    }
   ],
   "source": [
    "embeds[0]"
   ]
  },
  {
   "cell_type": "code",
   "execution_count": 9,
   "metadata": {},
   "outputs": [
    {
     "name": "stdout",
     "output_type": "stream",
     "text": [
      "Applying 'to_categorical'\n"
     ]
    }
   ],
   "source": [
    "ply = DataTransformPipeline(genre_data[\"romance\"][\"genre\"])\n",
    "ply.add(TextTransforms.to_categorical)\n",
    "y = ply.apply(\"labels\")"
   ]
  },
  {
   "cell_type": "code",
   "execution_count": 11,
   "metadata": {},
   "outputs": [],
   "source": [
    "from data import Data\n",
    "\n",
    "g = Data(embeds, y)\n",
    "l = g.get_loader()\n",
    "for o in l:\n",
    "    m = o\n",
    "    break"
   ]
  },
  {
   "cell_type": "code",
   "execution_count": 18,
   "metadata": {},
   "outputs": [
    {
     "data": {
      "text/plain": [
       "torch.Size([21, 21])"
      ]
     },
     "execution_count": 18,
     "metadata": {},
     "output_type": "execute_result"
    }
   ],
   "source": [
    "m[2].shape"
   ]
  }
 ],
 "metadata": {
  "kernelspec": {
   "display_name": "Python 3",
   "language": "python",
   "name": "python3"
  },
  "language_info": {
   "codemirror_mode": {
    "name": "ipython",
    "version": 3
   },
   "file_extension": ".py",
   "mimetype": "text/x-python",
   "name": "python",
   "nbconvert_exporter": "python",
   "pygments_lexer": "ipython3",
   "version": "3.7.0"
  }
 },
 "nbformat": 4,
 "nbformat_minor": 2
}
