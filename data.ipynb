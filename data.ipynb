{
 "cells": [
  {
   "cell_type": "code",
   "execution_count": 1,
   "metadata": {},
   "outputs": [],
   "source": [
    "import pandas as pd\n",
    "import os\n",
    "import pickle as pkl\n",
    "from data_transforms import CondenseStoryTransforms, VocabularyTransforms, TextTransforms, SeriesTransforms\n",
    "from data_transform_pipeline import DataTransformPipeline\n",
    "from combine_raw_data import get_combined_data, split_genres"
   ]
  },
  {
   "cell_type": "code",
   "execution_count": 2,
   "metadata": {},
   "outputs": [
    {
     "data": {
      "text/html": [
       "<div>\n",
       "<style scoped>\n",
       "    .dataframe tbody tr th:only-of-type {\n",
       "        vertical-align: middle;\n",
       "    }\n",
       "\n",
       "    .dataframe tbody tr th {\n",
       "        vertical-align: top;\n",
       "    }\n",
       "\n",
       "    .dataframe thead th {\n",
       "        text-align: right;\n",
       "    }\n",
       "</style>\n",
       "<table border=\"1\" class=\"dataframe\">\n",
       "  <thead>\n",
       "    <tr style=\"text-align: right;\">\n",
       "      <th></th>\n",
       "      <th>author</th>\n",
       "      <th>book</th>\n",
       "      <th>genre</th>\n",
       "      <th>genre1</th>\n",
       "      <th>genre2</th>\n",
       "      <th>genre3</th>\n",
       "      <th>href</th>\n",
       "      <th>story</th>\n",
       "    </tr>\n",
       "  </thead>\n",
       "  <tbody>\n",
       "    <tr>\n",
       "      <th>count</th>\n",
       "      <td>475</td>\n",
       "      <td>1032</td>\n",
       "      <td>1032</td>\n",
       "      <td>652</td>\n",
       "      <td>652</td>\n",
       "      <td>35</td>\n",
       "      <td>1032</td>\n",
       "      <td>1032</td>\n",
       "    </tr>\n",
       "    <tr>\n",
       "      <th>unique</th>\n",
       "      <td>318</td>\n",
       "      <td>4</td>\n",
       "      <td>115</td>\n",
       "      <td>18</td>\n",
       "      <td>20</td>\n",
       "      <td>5</td>\n",
       "      <td>1032</td>\n",
       "      <td>1032</td>\n",
       "    </tr>\n",
       "    <tr>\n",
       "      <th>top</th>\n",
       "      <td>ccmal</td>\n",
       "      <td>Princess-Diaries</td>\n",
       "      <td>Romance</td>\n",
       "      <td>Romance</td>\n",
       "      <td>Romance</td>\n",
       "      <td>Comfort</td>\n",
       "      <td>/s/533186/1/Not-another-Mia-Michael-story</td>\n",
       "      <td>Hello everyone! This is my new story, so you g...</td>\n",
       "    </tr>\n",
       "    <tr>\n",
       "      <th>freq</th>\n",
       "      <td>53</td>\n",
       "      <td>726</td>\n",
       "      <td>241</td>\n",
       "      <td>369</td>\n",
       "      <td>155</td>\n",
       "      <td>23</td>\n",
       "      <td>1</td>\n",
       "      <td>1</td>\n",
       "    </tr>\n",
       "  </tbody>\n",
       "</table>\n",
       "</div>"
      ],
      "text/plain": [
       "       author              book    genre   genre1   genre2   genre3  \\\n",
       "count     475              1032     1032      652      652       35   \n",
       "unique    318                 4      115       18       20        5   \n",
       "top     ccmal  Princess-Diaries  Romance  Romance  Romance  Comfort   \n",
       "freq       53               726      241      369      155       23   \n",
       "\n",
       "                                             href  \\\n",
       "count                                        1032   \n",
       "unique                                       1032   \n",
       "top     /s/533186/1/Not-another-Mia-Michael-story   \n",
       "freq                                            1   \n",
       "\n",
       "                                                    story  \n",
       "count                                                1032  \n",
       "unique                                               1032  \n",
       "top     Hello everyone! This is my new story, so you g...  \n",
       "freq                                                    1  "
      ]
     },
     "execution_count": 2,
     "metadata": {},
     "output_type": "execute_result"
    }
   ],
   "source": [
    "data = get_combined_data()\n",
    "data.describe()"
   ]
  },
  {
   "cell_type": "code",
   "execution_count": 3,
   "metadata": {},
   "outputs": [],
   "source": [
    "data = data.apply(split_genres, axis=1)"
   ]
  },
  {
   "cell_type": "code",
   "execution_count": 8,
   "metadata": {},
   "outputs": [
    {
     "data": {
      "text/plain": [
       "genre1\n",
       "Adventure        38\n",
       "Angst            21\n",
       "Crime             1\n",
       "Drama           116\n",
       "Family           20\n",
       "Fantasy          14\n",
       "Friendship       12\n",
       "Horror            3\n",
       "Humor           113\n",
       "Hurt             18\n",
       "Mystery          11\n",
       "Parody            7\n",
       "Poetry           17\n",
       "Romance         610\n",
       "Sci               7\n",
       "Supernatural      7\n",
       "Suspense          2\n",
       "Tragedy          13\n",
       "Western           2\n",
       "Name: story, dtype: int64"
      ]
     },
     "execution_count": 8,
     "metadata": {},
     "output_type": "execute_result"
    }
   ],
   "source": [
    "data.groupby(\"genre1\")[\"story\"].count()"
   ]
  },
  {
   "cell_type": "code",
   "execution_count": 9,
   "metadata": {},
   "outputs": [
    {
     "data": {
      "text/plain": [
       "genre2\n",
       "Adventure        28\n",
       "Angst            39\n",
       "Comfort          18\n",
       "Drama           179\n",
       "Family           21\n",
       "Fantasy          20\n",
       "Friendship       35\n",
       "Horror            4\n",
       "Humor           192\n",
       "Hurt             23\n",
       "Mystery           9\n",
       "Parody            5\n",
       "Poetry           14\n",
       "Romance         396\n",
       "Sci              11\n",
       "Spiritual         1\n",
       "Supernatural     12\n",
       "Suspense          7\n",
       "Tragedy          15\n",
       "Western           3\n",
       "Name: story, dtype: int64"
      ]
     },
     "execution_count": 9,
     "metadata": {},
     "output_type": "execute_result"
    }
   ],
   "source": [
    "data.groupby(\"genre2\")[\"story\"].count()"
   ]
  },
  {
   "cell_type": "code",
   "execution_count": 10,
   "metadata": {},
   "outputs": [
    {
     "data": {
      "text/plain": [
       "genre3\n",
       "Adventure         7\n",
       "Angst            10\n",
       "Comfort          23\n",
       "Drama            38\n",
       "Family            8\n",
       "Fantasy           2\n",
       "Friendship        9\n",
       "Horror            2\n",
       "Humor            38\n",
       "Mystery           3\n",
       "Parody            3\n",
       "Poetry           10\n",
       "Romance         245\n",
       "Sci               7\n",
       "Supernatural      2\n",
       "Suspense          1\n",
       "Tragedy           7\n",
       "Name: story, dtype: int64"
      ]
     },
     "execution_count": 10,
     "metadata": {},
     "output_type": "execute_result"
    }
   ],
   "source": [
    "data.groupby(\"genre3\")[\"story\"].count()"
   ]
  },
  {
   "cell_type": "code",
   "execution_count": 6,
   "metadata": {},
   "outputs": [
    {
     "data": {
      "text/plain": [
       "['\" Ma said, sitting down in her own rocking chair',\n",
       " 'They said like that for a while, just rocking gently back and forth, before Laura broke the silence']"
      ]
     },
     "execution_count": 6,
     "metadata": {},
     "output_type": "execute_result"
    }
   ],
   "source": [
    "stories = data[\"story\"]\n",
    "stories.values[0].split(\".\")[4:6]"
   ]
  },
  {
   "cell_type": "code",
   "execution_count": 7,
   "metadata": {},
   "outputs": [
    {
     "name": "stdout",
     "output_type": "stream",
     "text": [
      "****************\n",
      "Starting 'first_sentences' pipeline\n",
      "****************\n",
      "\n",
      "Applying 'values'\n",
      "Applying 'first_sentence_tokens'\n",
      "Applying 'to_word_embeddings'\n",
      "Reading files...\n",
      "opening embeds/45k/wiki-news-300d-1M-embedding-1.pkl\n",
      "opening embeds/45k/wiki-news-300d-1M-embedding-2.pkl\n",
      "opening embeds/45k/wiki-news-300d-1M-embedding-3.pkl\n",
      "opening embeds/45k/wiki-news-300d-1M-embedding-7.pkl\n",
      "opening embeds/45k/wiki-news-300d-1M-embedding-6.pkl\n",
      "opening embeds/45k/wiki-news-300d-1M-embedding-4.pkl\n",
      "opening embeds/45k/wiki-news-300d-1M-embedding-5.pkl\n",
      "opening embeds/45k/wiki-news-300d-1M-embedding-8.pkl\n"
     ]
    }
   ],
   "source": [
    "f_sents_pl = DataTransformPipeline()\n",
    "f_sents_pl.add(SeriesTransforms.values)\n",
    "f_sents_pl.add(CondenseStoryTransforms.first_sentence_tokens, args = (2, 2))\n",
    "f_sents_pl.add(VocabularyTransforms.to_word_embeddings)\n",
    "\n",
    "embeds, idx_word_map, embedding_vocab = f_sents_pl.apply(\"first_sentences\", stories)"
   ]
  },
  {
   "cell_type": "code",
   "execution_count": 8,
   "metadata": {},
   "outputs": [
    {
     "data": {
      "text/plain": [
       "tensor([ 8250,    50,     0,  4386, 35755,  3408,     2,   354,    50,    66,\n",
       "            0, 35755, 10498,  5725,     0,  6170,  2983, 45000,   651, 16484,\n",
       "            0,  1882,    37,     8,   641,   824,     2])"
      ]
     },
     "execution_count": 8,
     "metadata": {},
     "output_type": "execute_result"
    }
   ],
   "source": [
    "embeds[0]"
   ]
  },
  {
   "cell_type": "code",
   "execution_count": 10,
   "metadata": {},
   "outputs": [
    {
     "data": {
      "text/plain": [
       "'Ma said , sitting rocking chair . They said like , rocking gently forth , Laura broke <unk> stop ma , pain ? \" She asked .'"
      ]
     },
     "execution_count": 10,
     "metadata": {},
     "output_type": "execute_result"
    }
   ],
   "source": [
    "\" \".join([idx_word_map[idx.item()] for idx in embeds[0]])"
   ]
  },
  {
   "cell_type": "code",
   "execution_count": 11,
   "metadata": {},
   "outputs": [
    {
     "name": "stdout",
     "output_type": "stream",
     "text": [
      "****************\n",
      "Starting 'genre1_labels' pipeline\n",
      "****************\n",
      "\n",
      "Applying 'to_categorical'\n",
      "****************\n",
      "Starting 'genre2_labels' pipeline\n",
      "****************\n",
      "\n",
      "Applying 'to_categorical'\n"
     ]
    }
   ],
   "source": [
    "label_pipeline = DataTransformPipeline()\n",
    "label_pipeline.add(TextTransforms.to_categorical)\n",
    "\n",
    "for label in [\"genre1\", \"genre2\"]:\n",
    "    label_pipeline.apply(\"{}_labels\".format(label), data[label])"
   ]
  },
  {
   "cell_type": "code",
   "execution_count": null,
   "metadata": {},
   "outputs": [],
   "source": []
  }
 ],
 "metadata": {
  "kernelspec": {
   "display_name": "Python 3",
   "language": "python",
   "name": "python3"
  },
  "language_info": {
   "codemirror_mode": {
    "name": "ipython",
    "version": 3
   },
   "file_extension": ".py",
   "mimetype": "text/x-python",
   "name": "python",
   "nbconvert_exporter": "python",
   "pygments_lexer": "ipython3",
   "version": "3.7.0"
  }
 },
 "nbformat": 4,
 "nbformat_minor": 2
}
