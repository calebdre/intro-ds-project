{
 "cells": [
  {
   "cell_type": "code",
   "execution_count": 1,
   "metadata": {},
   "outputs": [],
   "source": [
    "import pandas as pd\n",
    "import os\n",
    "import pickle as pkl\n",
    "from data_transforms import CondenseStoryTransforms, VocabularyTransforms, TextTransforms, SeriesTransforms\n",
    "from data_transform_pipeline import DataTransformPipeline\n",
    "from combine_raw_data import get_combined_data"
   ]
  },
  {
   "cell_type": "code",
   "execution_count": 2,
   "metadata": {},
   "outputs": [
    {
     "data": {
      "text/html": [
       "<div>\n",
       "<style scoped>\n",
       "    .dataframe tbody tr th:only-of-type {\n",
       "        vertical-align: middle;\n",
       "    }\n",
       "\n",
       "    .dataframe tbody tr th {\n",
       "        vertical-align: top;\n",
       "    }\n",
       "\n",
       "    .dataframe thead th {\n",
       "        text-align: right;\n",
       "    }\n",
       "</style>\n",
       "<table border=\"1\" class=\"dataframe\">\n",
       "  <thead>\n",
       "    <tr style=\"text-align: right;\">\n",
       "      <th></th>\n",
       "      <th>author</th>\n",
       "      <th>book</th>\n",
       "      <th>genre</th>\n",
       "      <th>genre1</th>\n",
       "      <th>genre2</th>\n",
       "      <th>genre3</th>\n",
       "      <th>href</th>\n",
       "      <th>story</th>\n",
       "    </tr>\n",
       "  </thead>\n",
       "  <tbody>\n",
       "    <tr>\n",
       "      <th>count</th>\n",
       "      <td>6181</td>\n",
       "      <td>9618</td>\n",
       "      <td>9618</td>\n",
       "      <td>9618</td>\n",
       "      <td>9618</td>\n",
       "      <td>3743</td>\n",
       "      <td>9618</td>\n",
       "      <td>9617</td>\n",
       "    </tr>\n",
       "    <tr>\n",
       "      <th>unique</th>\n",
       "      <td>4420</td>\n",
       "      <td>107</td>\n",
       "      <td>323</td>\n",
       "      <td>20</td>\n",
       "      <td>21</td>\n",
       "      <td>20</td>\n",
       "      <td>9618</td>\n",
       "      <td>9586</td>\n",
       "    </tr>\n",
       "    <tr>\n",
       "      <th>top</th>\n",
       "      <td>hexterah</td>\n",
       "      <td>Twilight</td>\n",
       "      <td>Romance</td>\n",
       "      <td>Romance</td>\n",
       "      <td>Romance</td>\n",
       "      <td>Romance</td>\n",
       "      <td>/s/12440675/1/Everything-Comes-Back-To-You</td>\n",
       "      <td>A/N: So I've decided to pull my stories. I hav...</td>\n",
       "    </tr>\n",
       "    <tr>\n",
       "      <th>freq</th>\n",
       "      <td>42</td>\n",
       "      <td>337</td>\n",
       "      <td>1109</td>\n",
       "      <td>3453</td>\n",
       "      <td>2284</td>\n",
       "      <td>1207</td>\n",
       "      <td>1</td>\n",
       "      <td>9</td>\n",
       "    </tr>\n",
       "  </tbody>\n",
       "</table>\n",
       "</div>"
      ],
      "text/plain": [
       "          author      book    genre   genre1   genre2   genre3  \\\n",
       "count       6181      9618     9618     9618     9618     3743   \n",
       "unique      4420       107      323       20       21       20   \n",
       "top     hexterah  Twilight  Romance  Romance  Romance  Romance   \n",
       "freq          42       337     1109     3453     2284     1207   \n",
       "\n",
       "                                              href  \\\n",
       "count                                         9618   \n",
       "unique                                        9618   \n",
       "top     /s/12440675/1/Everything-Comes-Back-To-You   \n",
       "freq                                             1   \n",
       "\n",
       "                                                    story  \n",
       "count                                                9617  \n",
       "unique                                               9586  \n",
       "top     A/N: So I've decided to pull my stories. I hav...  \n",
       "freq                                                    9  "
      ]
     },
     "execution_count": 2,
     "metadata": {},
     "output_type": "execute_result"
    }
   ],
   "source": [
    "data = get_combined_data()\n",
    "data.describe()"
   ]
  },
  {
   "cell_type": "code",
   "execution_count": 3,
   "metadata": {},
   "outputs": [
    {
     "data": {
      "text/plain": [
       "genre1\n",
       "Romance         3453\n",
       "Humor           1093\n",
       "Adventure        931\n",
       "Drama            794\n",
       "Angst            596\n",
       "Fantasy          425\n",
       "Hurt             393\n",
       "Friendship       369\n",
       "Family           330\n",
       "Poetry           235\n",
       "Tragedy          204\n",
       "Supernatural     179\n",
       "Mystery          123\n",
       "Horror           121\n",
       "Sci              107\n",
       "Suspense          94\n",
       "Parody            81\n",
       "Spiritual         45\n",
       "Crime             35\n",
       "Western            9\n",
       "Name: story, dtype: int64"
      ]
     },
     "execution_count": 3,
     "metadata": {},
     "output_type": "execute_result"
    }
   ],
   "source": [
    "data.groupby(\"genre1\")[\"story\"].count().sort_values(ascending=False)"
   ]
  },
  {
   "cell_type": "code",
   "execution_count": 4,
   "metadata": {},
   "outputs": [
    {
     "data": {
      "text/plain": [
       "genre2\n",
       "Romance         2283\n",
       "Humor           1044\n",
       "Drama            983\n",
       "Adventure        732\n",
       "Angst            696\n",
       "Friendship       563\n",
       "Hurt             555\n",
       "Fantasy          450\n",
       "Comfort          393\n",
       "Family           336\n",
       "Tragedy          295\n",
       "Supernatural     217\n",
       "Poetry           184\n",
       "Suspense         177\n",
       "Sci              167\n",
       "Mystery          158\n",
       "Parody           140\n",
       "Horror           124\n",
       "Spiritual         69\n",
       "Crime             44\n",
       "Western            7\n",
       "Name: story, dtype: int64"
      ]
     },
     "execution_count": 4,
     "metadata": {},
     "output_type": "execute_result"
    }
   ],
   "source": [
    "data.groupby(\"genre2\")[\"story\"].count().sort_values(ascending=False)"
   ]
  },
  {
   "cell_type": "code",
   "execution_count": 5,
   "metadata": {},
   "outputs": [
    {
     "data": {
      "text/plain": [
       "genre3\n",
       "Romance         1207\n",
       "Comfort          555\n",
       "Humor            457\n",
       "Drama            236\n",
       "Angst            230\n",
       "Adventure        203\n",
       "Friendship       159\n",
       "Family           136\n",
       "Poetry           127\n",
       "Fantasy          109\n",
       "Sci              108\n",
       "Tragedy           67\n",
       "Supernatural      43\n",
       "Suspense          24\n",
       "Mystery           22\n",
       "Spiritual         20\n",
       "Horror            19\n",
       "Parody            10\n",
       "Crime              9\n",
       "Western            2\n",
       "Name: story, dtype: int64"
      ]
     },
     "execution_count": 5,
     "metadata": {},
     "output_type": "execute_result"
    }
   ],
   "source": [
    "data.groupby(\"genre3\")[\"story\"].count().sort_values(ascending=False)"
   ]
  },
  {
   "cell_type": "code",
   "execution_count": 8,
   "metadata": {},
   "outputs": [
    {
     "data": {
      "text/plain": [
       "['AN: I do not own The Chronicles of Prydain, alas, for I am clearly not Lloyd Alexander',\n",
       " ' A big thanks to CompanionWanderer for beta-ing this for me so VERY long ago',\n",
       " \" I'm finally posting it in hopes that feedback will get me moving on it again\"]"
      ]
     },
     "execution_count": 8,
     "metadata": {},
     "output_type": "execute_result"
    }
   ],
   "source": [
    "stories = data[\"story\"].dropna()\n",
    "stories.values[0].split(\".\")[:3]"
   ]
  },
  {
   "cell_type": "code",
   "execution_count": 7,
   "metadata": {},
   "outputs": [
    {
     "name": "stdout",
     "output_type": "stream",
     "text": [
      "****************\n",
      "Starting 'first_sentences' pipeline\n",
      "****************\n",
      "\n",
      "Applying 'values'\n",
      "Applying 'first_sentence_tokens'\n",
      "Applying 'to_word_embeddings'\n",
      "Reading files...\n",
      "opening embeds/45k/wiki-news-300d-1M-embedding-1.pkl\n",
      "opening embeds/45k/wiki-news-300d-1M-embedding-2.pkl\n",
      "opening embeds/45k/wiki-news-300d-1M-embedding-3.pkl\n",
      "opening embeds/45k/wiki-news-300d-1M-embedding-7.pkl\n",
      "opening embeds/45k/wiki-news-300d-1M-embedding-6.pkl\n",
      "opening embeds/45k/wiki-news-300d-1M-embedding-4.pkl\n",
      "opening embeds/45k/wiki-news-300d-1M-embedding-5.pkl\n",
      "opening embeds/45k/wiki-news-300d-1M-embedding-8.pkl\n"
     ]
    }
   ],
   "source": [
    "f_sents_pl = DataTransformPipeline()\n",
    "f_sents_pl.add(SeriesTransforms.values)\n",
    "f_sents_pl.add(CondenseStoryTransforms.first_sentence_tokens, args = (2, 2))\n",
    "f_sents_pl.add(VocabularyTransforms.to_word_embeddings)\n",
    "\n",
    "embeds, idx_word_map, embedding_vocab = f_sents_pl.apply(\"first_sentences\", stories)"
   ]
  },
  {
   "cell_type": "code",
   "execution_count": 9,
   "metadata": {},
   "outputs": [
    {
     "data": {
      "text/plain": [
       "tensor([   20, 33335, 45000,     0, 29404,     0,    28,   865,  8031,  2598,\n",
       "            2,   104,   740,  2001, 45000, 10494,    35, 31870, 32365,   387,\n",
       "          779,     2,    28,   719,  1620,  3002,  3328,  3488,  1236,     2])"
      ]
     },
     "execution_count": 9,
     "metadata": {},
     "output_type": "execute_result"
    }
   ],
   "source": [
    "embeds[0]"
   ]
  },
  {
   "cell_type": "code",
   "execution_count": 10,
   "metadata": {},
   "outputs": [
    {
     "data": {
      "text/plain": [
       "\"The Chronicles <unk> , alas , I clearly Lloyd Alexander . A big thanks <unk> beta - ing VERY long ago . I 'm finally posting hopes feedback moving .\""
      ]
     },
     "execution_count": 10,
     "metadata": {},
     "output_type": "execute_result"
    }
   ],
   "source": [
    "\" \".join([idx_word_map[idx.item()] for idx in embeds[0]])"
   ]
  },
  {
   "cell_type": "code",
   "execution_count": 3,
   "metadata": {},
   "outputs": [
    {
     "name": "stdout",
     "output_type": "stream",
     "text": [
      "****************\n",
      "Starting 'genre1_labels' pipeline\n",
      "****************\n",
      "\n",
      "Applying 'to_categorical'\n",
      "****************\n",
      "Starting 'genre2_labels' pipeline\n",
      "****************\n",
      "\n",
      "Applying 'to_categorical'\n"
     ]
    }
   ],
   "source": [
    "label_pipeline = DataTransformPipeline()\n",
    "label_pipeline.add(TextTransforms.to_categorical)\n",
    "\n",
    "for label in [\"genre1\", \"genre2\"]:\n",
    "    label_pipeline.apply(\"{}_labels\".format(label), data[label])"
   ]
  }
 ],
 "metadata": {
  "kernelspec": {
   "display_name": "Python 3",
   "language": "python",
   "name": "python3"
  },
  "language_info": {
   "codemirror_mode": {
    "name": "ipython",
    "version": 3
   },
   "file_extension": ".py",
   "mimetype": "text/x-python",
   "name": "python",
   "nbconvert_exporter": "python",
   "pygments_lexer": "ipython3",
   "version": "3.7.0"
  }
 },
 "nbformat": 4,
 "nbformat_minor": 2
}
